{
 "cells": [
  {
   "cell_type": "code",
   "execution_count": 1,
   "id": "8e9f4d08",
   "metadata": {},
   "outputs": [],
   "source": [
    "from selenium import webdriver\n",
    "from selenium.webdriver.common.keys import Keys\n",
    "from selenium.webdriver.support import expected_conditions as ec\n",
    "from selenium.webdriver.common.by import By\n",
    "from selenium.webdriver.support.wait import WebDriverWait\n",
    "import time\n",
    "import os\n",
    "import wget"
   ]
  },
  {
   "cell_type": "code",
   "execution_count": 2,
   "id": "21f83842",
   "metadata": {},
   "outputs": [],
   "source": [
    "driver = webdriver.Firefox(executable_path=r\"A:\\AI course\\geckodriver.exe\")\n",
    "driver.get(\"https://www.instagram.com/\")"
   ]
  },
  {
   "cell_type": "code",
   "execution_count": 3,
   "id": "674fbc6a",
   "metadata": {},
   "outputs": [],
   "source": [
    "user_name = driver.find_element_by_name(\"username\")\n",
    "user_name.send_keys(\"\") #enter your username\n",
    "password = driver.find_element_by_name(\"password\")\n",
    "password.send_keys(\"\")  #enter your password\n",
    "login = WebDriverWait(driver, 5).until(ec.element_to_be_clickable((By.CSS_SELECTOR, \"button[type = 'submit']\"))).click()"
   ]
  },
  {
   "cell_type": "code",
   "execution_count": 4,
   "id": "1f74a2df",
   "metadata": {},
   "outputs": [],
   "source": [
    "not_now = WebDriverWait(driver, 5).until(ec.element_to_be_clickable((By.XPATH, \"//button[contains(text(), 'Not Now')]\"))).click()\n",
    "not_now2 = WebDriverWait(driver, 5).until(ec.element_to_be_clickable((By.XPATH, \"//button[contains(text(), 'Not Now')]\"))).click()"
   ]
  },
  {
   "cell_type": "code",
   "execution_count": 5,
   "id": "e2c7a57d",
   "metadata": {},
   "outputs": [],
   "source": [
    "search_box = WebDriverWait(driver, 5).until(ec.element_to_be_clickable((By.XPATH, \"//input[@placeholder = 'Search']\")))\n",
    "search_box.clear()\n",
    "search_for = \"#uzumakinaruto\"\n",
    "search_box.send_keys(search_for)\n"
   ]
  },
  {
   "cell_type": "code",
   "execution_count": 7,
   "id": "e61d55d8",
   "metadata": {},
   "outputs": [],
   "source": [
    "search_box.send_keys(Keys.ENTER)\n",
    "search_box.send_keys(Keys.ENTER)"
   ]
  },
  {
   "cell_type": "code",
   "execution_count": 8,
   "id": "9649bcc4",
   "metadata": {},
   "outputs": [],
   "source": [
    "# scrolls = 2\n",
    "# for j in range(0, scrolls):\n",
    "#     driver.execute_script(\"window.scrollTo(0, document.body.scrollHeight);\")"
   ]
  },
  {
   "cell_type": "code",
   "execution_count": 11,
   "id": "191f5be5",
   "metadata": {},
   "outputs": [
    {
     "name": "stdout",
     "output_type": "stream",
     "text": [
      "Found 33 links to images\n"
     ]
    },
    {
     "data": {
      "text/plain": [
       "['https://www.instagram.com/p/CUeGJc7vyNU/',\n",
       " 'https://www.instagram.com/p/CUb7orQBikW/',\n",
       " 'https://www.instagram.com/p/CUXd_byI6Tg/',\n",
       " 'https://www.instagram.com/p/CUKxzsLtDU4/',\n",
       " 'https://www.instagram.com/p/CUcN2tolK53/',\n",
       " 'https://www.instagram.com/p/CUTHKVgrW7t/',\n",
       " 'https://www.instagram.com/p/CUVLGICBb34/',\n",
       " 'https://www.instagram.com/p/CUSRvFWI4v3/',\n",
       " 'https://www.instagram.com/p/CUTCH-PPS1M/',\n",
       " 'https://www.instagram.com/p/CUfDi2XI66G/',\n",
       " 'https://www.instagram.com/p/CUfDS6CP07n/',\n",
       " 'https://www.instagram.com/p/CUfDN6KIrSs/',\n",
       " 'https://www.instagram.com/p/CUfCg7gv-sT/',\n",
       " 'https://www.instagram.com/p/CUfB_pUF15q/',\n",
       " 'https://www.instagram.com/p/CUfBk5Klbl-/',\n",
       " 'https://www.instagram.com/p/CUfBKy-hMEO/',\n",
       " 'https://www.instagram.com/p/CUfA76JoBKN/',\n",
       " 'https://www.instagram.com/p/CUfA3CkFZpm/',\n",
       " 'https://www.instagram.com/p/CUfAtjbtobf/',\n",
       " 'https://www.instagram.com/p/CUfAO_IlEf1/',\n",
       " 'https://www.instagram.com/p/CUfABXtoFBx/',\n",
       " 'https://www.instagram.com/p/CUe_9zMKNJl/',\n",
       " 'https://www.instagram.com/p/CUfAHKEqFur/',\n",
       " 'https://www.instagram.com/p/CUfAFohIYoA/',\n",
       " 'https://www.instagram.com/p/CUe_leyhpTt/',\n",
       " 'https://www.instagram.com/p/CUe_tyEouPB/',\n",
       " 'https://www.instagram.com/p/CUe_qvVjfvF/',\n",
       " 'https://www.instagram.com/p/CUe_khYohWr/',\n",
       " 'https://www.instagram.com/p/CUe_ddVotUl/',\n",
       " 'https://www.instagram.com/p/CUe_DGMoyXz/',\n",
       " 'https://www.instagram.com/p/CUe-3VVFX0L/',\n",
       " 'https://www.instagram.com/p/CUe-kCVgFNS/',\n",
       " 'https://www.instagram.com/p/CUe-kQ_pB3p/']"
      ]
     },
     "execution_count": 11,
     "metadata": {},
     "output_type": "execute_result"
    }
   ],
   "source": [
    "image = driver.find_elements_by_tag_name('a')\n",
    "image = [a.get_attribute('href') for a in image]\n",
    "image = [a for a in image if str(a).startswith(\"https://www.instagram.com/p/\")]\n",
    "print('Found ' + str(len(image)) + ' links to images')\n",
    "image[:]\n"
   ]
  },
  {
   "cell_type": "code",
   "execution_count": 12,
   "id": "8ef160b3",
   "metadata": {
    "scrolled": true
   },
   "outputs": [
    {
     "data": {
      "text/plain": [
       "['https://instagram.fcai20-2.fna.fbcdn.net/v/t51.2885-19/s150x150/242170779_955657958326334_1936739893947617042_n.jpg?_nc_ht=instagram.fcai20-2.fna.fbcdn.net&_nc_ohc=e8IkBLy9CzUAX_zKnSy&edm=ABmJApABAAAA&ccb=7-4&oh=85540e219d9c35b5659f2171d4263f83&oe=615DAC91&_nc_sid=6136e7',\n",
       " 'https://instagram.fcai20-2.fna.fbcdn.net/v/t51.2885-19/s150x150/243343618_1012210042680155_8046852505288044652_n.jpg?_nc_ht=instagram.fcai20-2.fna.fbcdn.net&_nc_ohc=CvtWEO1lfh4AX-kcdFu&tn=xiCm0ckIngnRWHmQ&edm=ABmJApABAAAA&ccb=7-4&oh=8905802e8627bed3bb86801f62269bc7&oe=615E0DF2&_nc_sid=6136e7',\n",
       " 'https://instagram.fcai20-2.fna.fbcdn.net/v/t51.2885-19/s150x150/156620414_2689172178049113_8912936708461615102_n.jpg?_nc_ht=instagram.fcai20-2.fna.fbcdn.net&_nc_ohc=M2VIWFSpt-oAX9br69o&edm=ABmJApABAAAA&ccb=7-4&oh=0a1eaf721c99a187d2444204ec0864fd&oe=615E9598&_nc_sid=6136e7',\n",
       " 'https://instagram.fcai20-2.fna.fbcdn.net/v/t51.2885-19/s150x150/241836739_867443177208707_2288769965547417104_n.jpg?_nc_ht=instagram.fcai20-2.fna.fbcdn.net&_nc_ohc=DZGN0QfriNYAX8FKI-t&edm=ABmJApABAAAA&ccb=7-4&oh=8e7b0066c0b311a09fcf4321e7ae21c4&oe=615EC816&_nc_sid=6136e7',\n",
       " 'https://instagram.fcai20-2.fna.fbcdn.net/v/t51.2885-15/e35/243366633_138249038461077_7563118271949325283_n.webp.jpg?_nc_ht=instagram.fcai20-2.fna.fbcdn.net&_nc_cat=109&_nc_ohc=pe1mup9_7XQAX9zs7IW&edm=ABmJApABAAAA&ccb=7-4&oh=984910bafaf143e2487f8a32853f7068&oe=615DEAFD&_nc_sid=6136e7&ig_cache_key=MjY3NDA3MzIwOTk1MjA1MDY1MA%3D%3D.2-ccb7-4',\n",
       " 'https://instagram.fcai20-2.fna.fbcdn.net/v/t51.2885-19/s150x150/134829376_257770472358068_7045558611963979243_n.jpg?_nc_ht=instagram.fcai20-2.fna.fbcdn.net&_nc_ohc=Tp3BGzA6rnsAX933srg&edm=ABmJApABAAAA&ccb=7-4&oh=b56b4864215c097768349ab9f98597f3&oe=615E4EF1&_nc_sid=6136e7',\n",
       " 'https://instagram.fcai20-2.fna.fbcdn.net/v/t51.2885-19/s150x150/198999948_487049479219454_5613446836971389419_n.jpg?_nc_ht=instagram.fcai20-2.fna.fbcdn.net&_nc_ohc=GzP1glouneEAX-mz4Mk&edm=ABmJApABAAAA&ccb=7-4&oh=5b931cbb7f05f162404fc7d2f6926344&oe=615E88CF&_nc_sid=6136e7',\n",
       " 'https://instagram.fcai20-2.fna.fbcdn.net/v/t51.2885-19/s150x150/243556074_604509280675530_1492737133135791488_n.jpg?_nc_ht=instagram.fcai20-2.fna.fbcdn.net&_nc_ohc=yoBZHyOfHxoAX_6MHHW&edm=ABmJApABAAAA&ccb=7-4&oh=e4b69343b858c0c9ce83a648852c23e6&oe=615D12BA&_nc_sid=6136e7',\n",
       " 'https://instagram.fcai20-2.fna.fbcdn.net/v/t51.2885-19/s150x150/218879241_200435012020764_4678944878531550662_n.jpg?_nc_ht=instagram.fcai20-2.fna.fbcdn.net&_nc_ohc=mywWNCAurzYAX9PEu5A&edm=ABmJApABAAAA&ccb=7-4&oh=912ada55ac7d71b641ec325f0d2b6ceb&oe=615E79BE&_nc_sid=6136e7',\n",
       " 'https://instagram.fcai20-2.fna.fbcdn.net/v/t51.2885-19/s150x150/240687518_1067521876987910_2024175505863843050_n.jpg?_nc_ht=instagram.fcai20-2.fna.fbcdn.net&_nc_ohc=5-u7cNnRsrQAX-T88A0&edm=ABmJApABAAAA&ccb=7-4&oh=7ed379a8d11353c55291cf94bb32f465&oe=615E20DB&_nc_sid=6136e7',\n",
       " 'https://instagram.fcai20-2.fna.fbcdn.net/v/t51.2885-19/s150x150/241269078_4452657338126705_3768580411454602918_n.jpg?_nc_ht=instagram.fcai20-2.fna.fbcdn.net&_nc_ohc=v2GozVQBmPkAX-TDhg7&edm=ABmJApABAAAA&ccb=7-4&oh=c4de3e3c9d97ce112c0c1d8bc02daf3b&oe=615D9451&_nc_sid=6136e7',\n",
       " 'https://instagram.fcai20-2.fna.fbcdn.net/v/t51.2885-15/e35/243609718_1290001234804776_1757930827745491746_n.jpg?_nc_ht=instagram.fcai20-2.fna.fbcdn.net&_nc_cat=100&_nc_ohc=Pn1HSQGVY6cAX_wdAxR&edm=ABmJApABAAAA&ccb=7-4&oh=13bf7e053fe8bff5a0159c7a7b39a56d&oe=615ED87B&_nc_sid=6136e7&ig_cache_key=MjY3NDg3MDg0NjAwNDI3NTUxMQ%3D%3D.2-ccb7-4',\n",
       " 'https://instagram.fcai20-2.fna.fbcdn.net/v/t51.2885-19/s150x150/201112228_2990010031321930_6036287097055297065_n.jpg?_nc_ht=instagram.fcai20-2.fna.fbcdn.net&_nc_ohc=Fh8TfpEVV04AX9fpShT&edm=ABmJApABAAAA&ccb=7-4&oh=7ea1db01ebc9b505609ed56abba68cf4&oe=615D67B4&_nc_sid=6136e7',\n",
       " 'https://instagram.fcai20-2.fna.fbcdn.net/v/t51.2885-19/s150x150/243716777_207286141499232_6137419590036723249_n.jpg?_nc_ht=instagram.fcai20-2.fna.fbcdn.net&_nc_ohc=rlvkTHGU4IEAX-Ww3rY&edm=ABmJApABAAAA&ccb=7-4&oh=6728fb961f043657f662891465746a6f&oe=615E81D5&_nc_sid=6136e7',\n",
       " 'https://instagram.fcai20-2.fna.fbcdn.net/v/t51.2885-19/s150x150/242341854_3101929166749900_4349298852795078213_n.jpg?_nc_ht=instagram.fcai20-2.fna.fbcdn.net&_nc_ohc=e0Qmf5PF0lIAX9oTHYF&edm=ABmJApABAAAA&ccb=7-4&oh=d8a3b3def64719fd863cf28d4db5536c&oe=615DB860&_nc_sid=6136e7',\n",
       " 'https://instagram.fcai20-2.fna.fbcdn.net/v/t51.2885-19/s150x150/243343618_1012210042680155_8046852505288044652_n.jpg?_nc_ht=instagram.fcai20-2.fna.fbcdn.net&_nc_ohc=1bHJMt_pzdYAX9k16Ko&tn=xiCm0ckIngnRWHmQ&edm=ABmJApABAAAA&ccb=7-4&oh=c6551a6afc592614f0b563313aa36fb8&oe=615E0DF2&_nc_sid=6136e7',\n",
       " 'https://instagram.fcai20-2.fna.fbcdn.net/v/t51.2885-19/s150x150/228657350_575301003851312_189393326944944102_n.jpg?_nc_ht=instagram.fcai20-2.fna.fbcdn.net&_nc_ohc=ZUx6CM8Yq60AX9vbW47&tn=xiCm0ckIngnRWHmQ&edm=ABmJApABAAAA&ccb=7-4&oh=43bd799a640548fd005709afd4ec6c3a&oe=615DC24F&_nc_sid=6136e7',\n",
       " 'https://instagram.fcai20-2.fna.fbcdn.net/v/t51.2885-19/s150x150/243170988_390455049303476_5895549286423933059_n.jpg?_nc_ht=instagram.fcai20-2.fna.fbcdn.net&_nc_ohc=wKsVoGb_lM8AX-tG15x&edm=ABmJApABAAAA&ccb=7-4&oh=d1c4d82c766afab68ba50f0862c40639&oe=615ED02C&_nc_sid=6136e7',\n",
       " 'https://instagram.fcai20-2.fna.fbcdn.net/v/t51.2885-15/e35/243561995_1017674305690483_1492651394362142348_n.webp.jpg?_nc_ht=instagram.fcai20-2.fna.fbcdn.net&_nc_cat=107&_nc_ohc=HV6cwSJ7tSEAX93s7Gm&tn=xiCm0ckIngnRWHmQ&edm=ABmJApABAAAA&ccb=7-4&oh=d55fafabcf7d727eb91f41e904e6e5af&oe=615E0FFA&_nc_sid=6136e7&ig_cache_key=MjY3NDg1OTgyOTE5NjI2NDA0NQ%3D%3D.2-ccb7-4',\n",
       " 'https://instagram.fcai20-2.fna.fbcdn.net/v/t51.2885-19/s150x150/243529479_4343623612358620_6725160267094650398_n.jpg?_nc_ht=instagram.fcai20-2.fna.fbcdn.net&_nc_ohc=7uUfIzR6D3QAX9n0fes&edm=ABmJApABAAAA&ccb=7-4&oh=9db89ba1459067b4238d49c419d23d71&oe=615E7270&_nc_sid=6136e7',\n",
       " 'https://instagram.fcai20-2.fna.fbcdn.net/v/t51.2885-19/s150x150/193202893_377539740340953_2459531537594774657_n.jpg?_nc_ht=instagram.fcai20-2.fna.fbcdn.net&_nc_ohc=CmVv0V_q1AcAX8ABDrQ&edm=ABmJApABAAAA&ccb=7-4&oh=2fee8f713f976905c559fd2daffc5d40&oe=615E22C4&_nc_sid=6136e7',\n",
       " 'https://instagram.fcai20-2.fna.fbcdn.net/v/t51.2885-19/s150x150/241773956_3100030886896162_2259500804332704400_n.jpg?_nc_ht=instagram.fcai20-2.fna.fbcdn.net&_nc_ohc=ECa7aJQUkXAAX9pcd9k&tn=xiCm0ckIngnRWHmQ&edm=ABmJApABAAAA&ccb=7-4&oh=f44813385403e92046ff6806a8220ce3&oe=615DE27F&_nc_sid=6136e7',\n",
       " 'https://instagram.fcai20-2.fna.fbcdn.net/v/t51.2885-19/s150x150/200208091_291623206082278_5372420188482268334_n.jpg?_nc_ht=instagram.fcai20-2.fna.fbcdn.net&_nc_ohc=71N1dirDTeMAX9m8hBC&edm=ABmJApABAAAA&ccb=7-4&oh=e4510c2f6a6dc2c86ad8bf45580a4dbb&oe=615DAC0C&_nc_sid=6136e7',\n",
       " 'https://instagram.fcai20-2.fna.fbcdn.net/v/t51.2885-19/s150x150/240581362_3116480325251602_1489327657554723889_n.jpg?_nc_ht=instagram.fcai20-2.fna.fbcdn.net&_nc_ohc=XfN1TcIkCC8AX_33DBO&edm=ABmJApABAAAA&ccb=7-4&oh=cbfb6bf1e721edb3797868f5471cbb8d&oe=615D6207&_nc_sid=6136e7',\n",
       " 'https://instagram.fcai20-2.fna.fbcdn.net/v/t51.2885-19/s150x150/223728800_1585343518478220_1213746532471256575_n.jpg?_nc_ht=instagram.fcai20-2.fna.fbcdn.net&_nc_ohc=h8jQSbGq0b4AX8vrz3S&tn=xiCm0ckIngnRWHmQ&edm=ABmJApABAAAA&ccb=7-4&oh=2728f0f48121d2695c5bfda988560279&oe=615E8A53&_nc_sid=6136e7',\n",
       " 'https://instagram.fcai20-2.fna.fbcdn.net/v/t51.2885-19/s150x150/240455747_971906563542523_5904966403359568921_n.jpg?_nc_ht=instagram.fcai20-2.fna.fbcdn.net&_nc_ohc=O5q-wd2SkJAAX_frYwL&edm=ABmJApABAAAA&ccb=7-4&oh=3374a0daa4e8f013fe8b8722ae856689&oe=615D051A&_nc_sid=6136e7',\n",
       " 'https://instagram.fcai20-2.fna.fbcdn.net/v/t51.2885-19/s150x150/243194668_563402108321516_7635398720161907494_n.jpg?_nc_ht=instagram.fcai20-2.fna.fbcdn.net&_nc_ohc=lY6_92jvD5oAX_K5ghm&edm=ABmJApABAAAA&ccb=7-4&oh=df640fa8ed6a42527aa636528aabe712&oe=615DA25E&_nc_sid=6136e7',\n",
       " 'https://instagram.fcai20-2.fna.fbcdn.net/v/t51.2885-19/s150x150/197294625_305740071193785_4998959099647176110_n.jpg?_nc_ht=instagram.fcai20-2.fna.fbcdn.net&_nc_ohc=2x_LgR5ZRCIAX8KMT0M&edm=ABmJApABAAAA&ccb=7-4&oh=67d3ab55c5efa2945124d82de7c48968&oe=615DAF44&_nc_sid=6136e7',\n",
       " 'https://instagram.fcai20-2.fna.fbcdn.net/v/t51.2885-15/e35/243580516_1031234917710382_5640254310212376147_n.webp.jpg?_nc_ht=instagram.fcai20-2.fna.fbcdn.net&_nc_cat=110&_nc_ohc=MNeBXbGHg3MAX9xpxE4&edm=ABmJApABAAAA&ccb=7-4&oh=886c04631f2955c0a2ca3d845aefceae&oe=615D9128&_nc_sid=6136e7&ig_cache_key=MjY3NDg1NDMyMjM0MjIxNDY2Mg%3D%3D.2-ccb7-4',\n",
       " 'https://instagram.fcai20-2.fna.fbcdn.net/v/t51.2885-19/s150x150/36808124_649288008772619_6973767183386017792_n.jpg?_nc_ht=instagram.fcai20-2.fna.fbcdn.net&_nc_ohc=gGcSpnh0ZaMAX_0Cq8R&edm=ABmJApABAAAA&ccb=7-4&oh=654a2940be39fd74628df3c3b5a7e76f&oe=615EBBD2&_nc_sid=6136e7',\n",
       " 'https://instagram.fcai20-2.fna.fbcdn.net/v/t51.2885-19/s150x150/242464931_528958478201991_9022015290370868101_n.jpg?_nc_ht=instagram.fcai20-2.fna.fbcdn.net&_nc_ohc=-a0SyBf-ijsAX-aI0hj&edm=ABmJApABAAAA&ccb=7-4&oh=1baff19e25cfb7f1c52fbc21883418c0&oe=615DE3B8&_nc_sid=6136e7',\n",
       " 'https://instagram.fcai20-2.fna.fbcdn.net/v/t51.2885-19/s150x150/140957371_174316931142475_5074666165283973471_n.jpg?_nc_ht=instagram.fcai20-2.fna.fbcdn.net&_nc_ohc=qg-P40-OIpEAX8SNgO3&edm=ABmJApABAAAA&ccb=7-4&oh=0cfdde206fbb241ea7484dec1ca84eaf&oe=615CF3CA&_nc_sid=6136e7',\n",
       " 'https://instagram.fcai20-2.fna.fbcdn.net/v/t51.2885-19/s150x150/244189392_420704846065438_5648867539165946176_n.jpg?_nc_ht=instagram.fcai20-2.fna.fbcdn.net&_nc_ohc=4JO0qSWanBIAX8QZwZy&edm=ABmJApABAAAA&ccb=7-4&oh=04a30a901170c7e8f7158fe57f835720&oe=615D9F74&_nc_sid=6136e7']"
      ]
     },
     "execution_count": 12,
     "metadata": {},
     "output_type": "execute_result"
    }
   ],
   "source": [
    "images = []\n",
    "\n",
    "for a in image:\n",
    "    driver.get(a)\n",
    "    time.sleep(5)\n",
    "    img = driver.find_elements_by_tag_name('img')\n",
    "    img = [i.get_attribute('src') for i in img]\n",
    "    images.append(img[1])\n",
    "    \n",
    "images[:]"
   ]
  },
  {
   "cell_type": "code",
   "execution_count": null,
   "id": "019b75dd",
   "metadata": {},
   "outputs": [],
   "source": [
    "path = os.getcwd()\n",
    "path = os.path.join(path, search_for[1:])\n",
    "os.mkdir(path)\n",
    "path"
   ]
  },
  {
   "cell_type": "code",
   "execution_count": 53,
   "id": "d3a694cc",
   "metadata": {},
   "outputs": [],
   "source": [
    "#download images\n",
    "counter = 0\n",
    "for image in images:\n",
    "    save_as = os.path.join(path, search_for[1:] + str(counter) + '.jpg')\n",
    "    wget.download(image, save_as)\n",
    "    counter += 1"
   ]
  },
  {
   "cell_type": "code",
   "execution_count": null,
   "id": "69478892",
   "metadata": {},
   "outputs": [],
   "source": []
  }
 ],
 "metadata": {
  "kernelspec": {
   "display_name": "Python 3",
   "language": "python",
   "name": "python3"
  },
  "language_info": {
   "codemirror_mode": {
    "name": "ipython",
    "version": 3
   },
   "file_extension": ".py",
   "mimetype": "text/x-python",
   "name": "python",
   "nbconvert_exporter": "python",
   "pygments_lexer": "ipython3",
   "version": "3.8.8"
  }
 },
 "nbformat": 4,
 "nbformat_minor": 5
}
